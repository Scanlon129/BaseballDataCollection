{
 "cells": [
  {
   "cell_type": "code",
   "execution_count": 1,
   "metadata": {},
   "outputs": [
    {
     "ename": "ModuleNotFoundError",
     "evalue": "No module named 'requests'",
     "output_type": "error",
     "traceback": [
      "\u001b[1;31m---------------------------------------------------------------------------\u001b[0m",
      "\u001b[1;31mModuleNotFoundError\u001b[0m                       Traceback (most recent call last)",
      "Cell \u001b[1;32mIn[1], line 2\u001b[0m\n\u001b[0;32m      1\u001b[0m \u001b[38;5;66;03m# Imports----------------------------------------------------------------------\u001b[39;00m\n\u001b[1;32m----> 2\u001b[0m \u001b[38;5;28;01mimport\u001b[39;00m \u001b[38;5;21;01mrequests\u001b[39;00m\n\u001b[0;32m      3\u001b[0m \u001b[38;5;28;01mimport\u001b[39;00m \u001b[38;5;21;01mpandas\u001b[39;00m\n\u001b[0;32m      4\u001b[0m \u001b[38;5;28;01mimport\u001b[39;00m \u001b[38;5;21;01mos\u001b[39;00m\n",
      "\u001b[1;31mModuleNotFoundError\u001b[0m: No module named 'requests'"
     ]
    }
   ],
   "source": [
    "# Imports----------------------------------------------------------------------\n",
    "import requests\n",
    "import pandas\n",
    "import os\n",
    "# Local Dependencies-----------------------------------------------------------\n",
    "from skunkpack import datestrings\n",
    "from skunkpack import logger"
   ]
  },
  {
   "cell_type": "code",
   "execution_count": null,
   "metadata": {},
   "outputs": [],
   "source": [
    "data_path = os.getcwd()+'\\\\__data\\\\Top_25_Hitters\\\\'\n",
    "'''pymysql connection\n",
    "pymysql_connection = pymysql.connect(\n",
    "    'skunkworks.cnr2lzj6zcdf.us-east-1.rds.amazonaws.com'\n",
    "    'admin','password')\n",
    "'''\n",
    "# Definitions------------------------------------------------------------------\n",
    "url = \"https://bdfed.stitch.mlbinfra.com/bdfed/stats/player\"\n",
    "querystring = {\"stitch_env\":\"prod\",\"season\":\"2024\",\"sportId\":\"1\", \\\n",
    "                \"stats\":\"season\",\"group\":\"hitting\",\"gameType\":\"R\", \\\n",
    "                \"limit\":\"1000\",\"offset\":\"0\",\"sortStat\":\"onBasePlusSlugging\", \\\n",
    "                \"order\":\"desc\",\"daysBack\":\"-365\"\n",
    "            }\n",
    "payload = \"\"\n",
    "# Main-------------------------------------------------------------------------\n",
    "logger.log.debug(f'top_25_hitters request was made to mlbinfra.com')\n",
    "response = requests.request(\"GET\", url, data=payload, params=querystring)\n",
    "data = response.json()\n",
    "stats = data['stats']\n",
    "print(data)"
   ]
  },
  {
   "cell_type": "code",
   "execution_count": null,
   "metadata": {},
   "outputs": [],
   "source": [
    "df = pandas.json_normalize(stats)\n",
    "print(df.head())"
   ]
  }
 ],
 "metadata": {
  "kernelspec": {
   "display_name": ".venv",
   "language": "python",
   "name": "python3"
  },
  "language_info": {
   "codemirror_mode": {
    "name": "ipython",
    "version": 3
   },
   "file_extension": ".py",
   "mimetype": "text/x-python",
   "name": "python",
   "nbconvert_exporter": "python",
   "pygments_lexer": "ipython3",
   "version": "3.12.2"
  }
 },
 "nbformat": 4,
 "nbformat_minor": 2
}
